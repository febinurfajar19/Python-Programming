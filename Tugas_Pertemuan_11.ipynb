{
  "nbformat": 4,
  "nbformat_minor": 0,
  "metadata": {
    "colab": {
      "name": "Tugas Pertemuan 11.ipynb",
      "provenance": [],
      "collapsed_sections": [],
      "authorship_tag": "ABX9TyMKN1ppEAUTmuwHmK6SPI7V",
      "include_colab_link": true
    },
    "kernelspec": {
      "name": "python3",
      "display_name": "Python 3"
    }
  },
  "cells": [
    {
      "cell_type": "markdown",
      "metadata": {
        "id": "view-in-github",
        "colab_type": "text"
      },
      "source": [
        "<a href=\"https://colab.research.google.com/github/febinurfajar19/Python-Programming/blob/main/Tugas_Pertemuan_11.ipynb\" target=\"_parent\"><img src=\"https://colab.research.google.com/assets/colab-badge.svg\" alt=\"Open In Colab\"/></a>"
      ]
    },
    {
      "cell_type": "code",
      "metadata": {
        "colab": {
          "base_uri": "https://localhost:8080/"
        },
        "id": "rBJzRTHpuzY7",
        "outputId": "43fe2136-f214-43a5-f81b-6503ad2a3216"
      },
      "source": [
        "from google.colab import drive\n",
        "drive.mount('/content/drive')"
      ],
      "execution_count": 106,
      "outputs": [
        {
          "output_type": "stream",
          "text": [
            "Drive already mounted at /content/drive; to attempt to forcibly remount, call drive.mount(\"/content/drive\", force_remount=True).\n"
          ],
          "name": "stdout"
        }
      ]
    },
    {
      "cell_type": "code",
      "metadata": {
        "colab": {
          "base_uri": "https://localhost:8080/"
        },
        "id": "49W75oYku44b",
        "outputId": "fbe50b50-f66d-45f1-9e93-5674dbf246af"
      },
      "source": [
        "cd /content/drive/MyDrive/Colab Notebooks"
      ],
      "execution_count": 107,
      "outputs": [
        {
          "output_type": "stream",
          "text": [
            "/content/drive/MyDrive/Colab Notebooks\n"
          ],
          "name": "stdout"
        }
      ]
    },
    {
      "cell_type": "code",
      "metadata": {
        "id": "GQDULfpLu_wp"
      },
      "source": [
        "ls"
      ],
      "execution_count": null,
      "outputs": []
    },
    {
      "cell_type": "code",
      "metadata": {
        "id": "hXVvucPSvBPp"
      },
      "source": [
        "# import the necessary packages\n",
        "from keras.models import Sequential\n",
        "from keras.layers.core import Activation\n",
        "from keras.layers.core import Flatten\n",
        "from keras.layers.core import Dense\n",
        "from keras.optimizers import Adam\n",
        "from sklearn.preprocessing import LabelBinarizer\n",
        "from sklearn.model_selection import train_test_split\n",
        "from sklearn.metrics import classification_report\n",
        "from PIL import Image\n",
        "from PIL import ImageFilter\n",
        "from imutils import paths\n",
        "import numpy as np\n",
        "import os"
      ],
      "execution_count": 108,
      "outputs": []
    },
    {
      "cell_type": "code",
      "metadata": {
        "colab": {
          "base_uri": "https://localhost:8080/"
        },
        "id": "vHOXtAunvFUD",
        "outputId": "3b99b26f-6273-41d3-e4ef-d37ec5a5a059"
      },
      "source": [
        "# grab all image paths in the input dataset directory, then initialize\n",
        "# our list of images and corresponding class labels\n",
        "print(\"[INFO] loading images...\")\n",
        "imagePaths = paths.list_images(\"dataset_daun\")\n",
        "data = []\n",
        "labels = []"
      ],
      "execution_count": 109,
      "outputs": [
        {
          "output_type": "stream",
          "text": [
            "[INFO] loading images...\n"
          ],
          "name": "stdout"
        }
      ]
    },
    {
      "cell_type": "code",
      "metadata": {
        "id": "vszyOGr_vIwV"
      },
      "source": [
        "# loop over our input images\n",
        "for imagePath in imagePaths:\n",
        "\t# load the input image from disk, resize it to 128x128 pixels, scale\n",
        "\t# the pixel intensities to the range [0, 1], and then update our\n",
        "\t# images list\n",
        "  image = Image.open(imagePath)\n",
        "  sharpened1 = image.filter(ImageFilter.SHARPEN)\n",
        "  image = np.array(image.resize((128, 128))) / 255.0 #normalisasi\n",
        "  data.append(image)\n",
        "\n",
        "\t# extract the class label from the file path and update the\n",
        "\t# labels list\n",
        "  label = imagePath.split(os.path.sep)[-2]\n",
        "  labels.append(label)"
      ],
      "execution_count": 110,
      "outputs": []
    },
    {
      "cell_type": "code",
      "metadata": {
        "id": "l_zEdVgVvL59",
        "colab": {
          "base_uri": "https://localhost:8080/"
        },
        "outputId": "5c342d0e-9f99-461f-c21f-afd508f4a8af"
      },
      "source": [
        "print(labels)"
      ],
      "execution_count": 111,
      "outputs": [
        {
          "output_type": "stream",
          "text": [
            "['GMB_05', 'GMB_05', 'GMB_05', 'GMB_05', 'GMB_05', 'GMB_05', 'GMB_05', 'GMB_05', 'GMB_05', 'GMB_05', 'GMB_05', 'GMB_05', 'GMB_05', 'GMB_05', 'GMB_05', 'GMB_05', 'GMB_05', 'GMB_05', 'GMB_05', 'GMB_05', 'GMB_05', 'GMB_05', 'GMB_05', 'GMB_05', 'GMB_05', 'GMB_05', 'GMB_05', 'GMB_05', 'GMB_05', 'GMB_05', 'GMB_05', 'GMB_05', 'GMB_05', 'GMB_05', 'GMB_05', 'GMB_05', 'GMB_05', 'GMB_05', 'GMB_05', 'GMB_05', 'GMB_05', 'GMB_05', 'GMB_05', 'GMB_05', 'GMB_05', 'GMB_05', 'GMB_05', 'GMB_05', 'GMB_05', 'GMB_05', 'GMB_05', 'GMB_05', 'GMB_05', 'GMB_05', 'GMB_05', 'GMB_05', 'GMB_05', 'GMB_05', 'GMB_05', 'GMB_05', 'GMB_05', 'GMB_05', 'GMB_05', 'GMB_05', 'GMB_05', 'GMB_05', 'GMB_05', 'GMB_05', 'GMB_05', 'GMB_05', 'GMB_05', 'GMB_05', 'GMB_05', 'GMB_05', 'GMB_05', 'GMB_05', 'GMB_05', 'GMB_05', 'GMB_05', 'GMB_05', 'GMB_05', 'GMB_05', 'GMB_05', 'GMB_05', 'GMB_05', 'GMB_05', 'GMB_05', 'GMB_05', 'GMB_05', 'GMB_05', 'GMB_05', 'GMB_05', 'GMB_05', 'GMB_05', 'GMB_05', 'GMB_05', 'GMB_05', 'GMB_05', 'GMB_05', 'GMB_05', 'GMB_05', 'GMB_05', 'GMB_05', 'GMB_05', 'GMB_05', 'GMB_05', 'GMB_05', 'GMB_05', 'GMB_05', 'GMB_05', 'GMB_05', 'GMB_05', 'GMB_05', 'GMB_05', 'GMB_05', 'GMB_05', 'GMB_05', 'GMB_05', 'GMB_05', 'GMB_05', 'GMB_05', 'GMB_07', 'GMB_07', 'GMB_07', 'GMB_07', 'GMB_07', 'GMB_07', 'GMB_07', 'GMB_07', 'GMB_07', 'GMB_07', 'GMB_07', 'GMB_07', 'GMB_07', 'GMB_07', 'GMB_07', 'GMB_07', 'GMB_07', 'GMB_07', 'GMB_07', 'GMB_07', 'GMB_07', 'GMB_07', 'GMB_07', 'GMB_07', 'GMB_07', 'GMB_07', 'GMB_07', 'GMB_07', 'GMB_07', 'GMB_07', 'GMB_07', 'GMB_07', 'GMB_07', 'GMB_07', 'GMB_07', 'GMB_07', 'GMB_07', 'GMB_07', 'GMB_07', 'GMB_07', 'GMB_07', 'GMB_07', 'GMB_07', 'GMB_07', 'GMB_07', 'GMB_07', 'GMB_07', 'GMB_07', 'GMB_07', 'GMB_07', 'GMB_07', 'GMB_07', 'GMB_07', 'GMB_07', 'GMB_07', 'GMB_07', 'GMB_07', 'GMB_07', 'GMB_07', 'GMB_07', 'GMB_07', 'GMB_07', 'GMB_07', 'GMB_07', 'GMB_07', 'GMB_07', 'GMB_07', 'GMB_07', 'GMB_07', 'GMB_07', 'GMB_07', 'GMB_07', 'GMB_07', 'GMB_07', 'GMB_07', 'GMB_07', 'GMB_07', 'GMB_07', 'GMB_07', 'GMB_07', 'GMB_07', 'GMB_07', 'GMB_07', 'GMB_07', 'GMB_07', 'GMB_07', 'GMB_07', 'GMB_07', 'GMB_07', 'GMB_07', 'GMB_07', 'GMB_07', 'GMB_07', 'GMB_07', 'GMB_07', 'GMB_07', 'GMB_07', 'GMB_07', 'GMB_07', 'GMB_07', 'GMB_07', 'GMB_07', 'GMB_07', 'GMB_07', 'GMB_07', 'GMB_07', 'GMB_07', 'GMB_07', 'GMB_07', 'GMB_07', 'GMB_07', 'GMB_07', 'GMB_07', 'GMB_07', 'GMB_07', 'GMB_07', 'GMB_07', 'GMB_07', 'GMB_07', 'GMB_07', 'GMB_07', 'GMB_03', 'GMB_03', 'GMB_03', 'GMB_03', 'GMB_03', 'GMB_03', 'GMB_03', 'GMB_03', 'GMB_03', 'GMB_03', 'GMB_03', 'GMB_03', 'GMB_03', 'GMB_03', 'GMB_03', 'GMB_03', 'GMB_03', 'GMB_03', 'GMB_03', 'GMB_03', 'GMB_03', 'GMB_03', 'GMB_03', 'GMB_03', 'GMB_03', 'GMB_03', 'GMB_03', 'GMB_03', 'GMB_03', 'GMB_03', 'GMB_03', 'GMB_03', 'GMB_03', 'GMB_03', 'GMB_03', 'GMB_03', 'GMB_03', 'GMB_03', 'GMB_03', 'GMB_03', 'GMB_03', 'GMB_03', 'GMB_03', 'GMB_03', 'GMB_03', 'GMB_03', 'GMB_03', 'GMB_03', 'GMB_03', 'GMB_03', 'GMB_03', 'GMB_03', 'GMB_03', 'GMB_03', 'GMB_03', 'GMB_03', 'GMB_03', 'GMB_03', 'GMB_03', 'GMB_03', 'GMB_03', 'GMB_03', 'GMB_03', 'GMB_03', 'GMB_03', 'GMB_03', 'GMB_03', 'GMB_03', 'GMB_03', 'GMB_03', 'GMB_03', 'GMB_03', 'GMB_03', 'GMB_03', 'GMB_03', 'GMB_03', 'GMB_03', 'GMB_03', 'GMB_03', 'GMB_03', 'GMB_03', 'GMB_03', 'GMB_03', 'GMB_03', 'GMB_03', 'GMB_03', 'GMB_03', 'GMB_03', 'GMB_03', 'GMB_03', 'GMB_03', 'GMB_03', 'GMB_03', 'GMB_03', 'GMB_03', 'GMB_03', 'GMB_03', 'GMB_03', 'GMB_03', 'GMB_03', 'GMB_03', 'GMB_03', 'GMB_03', 'GMB_03', 'GMB_03', 'GMB_03', 'GMB_03', 'GMB_03', 'GMB_03', 'GMB_03', 'GMB_03', 'GMB_03', 'GMB_09', 'GMB_09', 'GMB_09', 'GMB_09', 'GMB_09', 'GMB_09', 'GMB_09', 'GMB_09', 'GMB_09', 'GMB_09', 'GMB_09', 'GMB_09', 'GMB_09', 'GMB_09', 'GMB_09', 'GMB_09', 'GMB_09', 'GMB_09', 'GMB_09', 'GMB_09', 'GMB_09', 'GMB_09', 'GMB_09', 'GMB_09', 'GMB_09', 'GMB_09', 'GMB_09', 'GMB_09', 'GMB_09', 'GMB_09', 'GMB_09', 'GMB_09', 'GMB_09', 'GMB_09', 'GMB_09', 'GMB_09', 'GMB_09', 'GMB_09', 'GMB_09', 'GMB_09', 'GMB_09', 'GMB_09', 'GMB_09', 'GMB_09', 'GMB_09', 'GMB_09', 'GMB_09', 'GMB_09', 'GMB_09', 'GMB_09', 'GMB_09', 'GMB_09', 'GMB_09', 'GMB_09', 'GMB_09', 'GMB_09', 'GMB_09', 'GMB_09', 'GMB_09', 'GMB_09', 'GMB_09', 'GMB_09', 'GMB_09', 'GMB_09', 'GMB_09', 'GMB_09', 'GMB_09', 'GMB_09', 'GMB_09', 'GMB_09', 'GMB_09', 'GMB_09', 'GMB_09', 'GMB_09', 'GMB_09', 'GMB_09', 'GMB_09', 'GMB_09', 'GMB_09', 'GMB_09', 'GMB_09', 'GMB_09', 'GMB_09', 'GMB_09', 'GMB_09', 'GMB_09', 'GMB_09', 'GMB_09', 'GMB_09', 'GMB_09', 'GMB_09', 'GMB_09', 'GMB_09', 'GMB_09', 'GMB_09', 'GMB_09', 'GMB_09', 'GMB_09', 'GMB_09', 'GMB_09', 'GMB_09', 'GMB_09', 'GMB_09', 'GMB_09', 'GMB_09', 'GMB_09', 'GMB_09', 'GMB_09', 'GMB_09', 'GMB_09', 'GMB_09', 'GMB_09', 'GMB_09', 'GMB_09', 'GMB_09', 'GMB_01', 'GMB_01', 'GMB_01', 'GMB_01', 'GMB_01', 'GMB_01', 'GMB_01', 'GMB_01', 'GMB_01', 'GMB_01', 'GMB_01', 'GMB_01', 'GMB_01', 'GMB_01', 'GMB_01', 'GMB_01', 'GMB_01', 'GMB_01', 'GMB_01', 'GMB_01', 'GMB_01', 'GMB_01', 'GMB_01', 'GMB_01', 'GMB_01', 'GMB_01', 'GMB_01', 'GMB_01', 'GMB_01', 'GMB_01', 'GMB_01', 'GMB_01', 'GMB_01', 'GMB_01', 'GMB_01', 'GMB_01', 'GMB_01', 'GMB_01', 'GMB_01', 'GMB_01', 'GMB_01', 'GMB_01', 'GMB_01', 'GMB_01', 'GMB_01', 'GMB_01', 'GMB_01', 'GMB_01', 'GMB_01', 'GMB_01', 'GMB_01', 'GMB_01', 'GMB_01', 'GMB_01', 'GMB_01', 'GMB_01', 'GMB_01', 'GMB_01', 'GMB_01', 'GMB_01', 'GMB_01', 'GMB_01', 'GMB_01', 'GMB_01', 'GMB_01', 'GMB_01', 'GMB_01', 'GMB_01', 'GMB_01', 'GMB_01', 'GMB_01', 'GMB_01', 'GMB_01', 'GMB_01', 'GMB_01', 'GMB_01', 'GMB_01', 'GMB_01', 'GMB_01', 'GMB_01', 'GMB_01', 'GMB_01', 'GMB_01', 'GMB_01', 'GMB_01', 'GMB_01', 'GMB_01', 'GMB_01', 'GMB_01', 'GMB_01', 'GMB_01', 'GMB_01', 'GMB_01', 'GMB_01', 'GMB_01', 'GMB_01', 'GMB_01', 'GMB_01', 'GMB_01', 'GMB_01', 'GMB_01', 'GMB_01', 'GMB_01', 'GMB_01', 'GMB_01', 'GMB_01', 'GMB_01', 'GMB_01', 'GMB_01', 'GMB_01', 'GMB_01', 'GMB_01', 'GMB_01', 'GMB_01', 'GMB_01', 'GMB_01']\n"
          ],
          "name": "stdout"
        }
      ]
    },
    {
      "cell_type": "code",
      "metadata": {
        "id": "TCZHH3Ovyfx3"
      },
      "source": [
        "# encode the labels, converting them from strings to integers\n",
        "lb = LabelBinarizer()\n",
        "labels = lb.fit_transform(labels)"
      ],
      "execution_count": 112,
      "outputs": []
    },
    {
      "cell_type": "code",
      "metadata": {
        "id": "-fX5l2ZSyhBl",
        "colab": {
          "base_uri": "https://localhost:8080/"
        },
        "outputId": "5aafb14a-1843-4ba1-afb8-afa1edecb1f9"
      },
      "source": [
        "print(labels)"
      ],
      "execution_count": 113,
      "outputs": [
        {
          "output_type": "stream",
          "text": [
            "[[0 0 1 0 0]\n",
            " [0 0 1 0 0]\n",
            " [0 0 1 0 0]\n",
            " ...\n",
            " [1 0 0 0 0]\n",
            " [1 0 0 0 0]\n",
            " [1 0 0 0 0]]\n"
          ],
          "name": "stdout"
        }
      ]
    },
    {
      "cell_type": "code",
      "metadata": {
        "id": "VVSA6OUByjS3",
        "colab": {
          "base_uri": "https://localhost:8080/"
        },
        "outputId": "6c7f21b3-96bc-49b2-ae5f-3ca125478c8c"
      },
      "source": [
        "# perform a training and testing split, using 25% of the data for\n",
        "# training and 25% for evaluation\n",
        "(trainX, testX, trainY, testY) = train_test_split(np.array(data),\tnp.array(labels), test_size=0.25, shuffle=True)\n",
        "print(trainX.shape)\n",
        "print(testX.shape)"
      ],
      "execution_count": 114,
      "outputs": [
        {
          "output_type": "stream",
          "text": [
            "(438, 128, 128, 3)\n",
            "(147, 128, 128, 3)\n"
          ],
          "name": "stdout"
        }
      ]
    },
    {
      "cell_type": "code",
      "metadata": {
        "id": "5HpN74l2ymll",
        "colab": {
          "base_uri": "https://localhost:8080/"
        },
        "outputId": "eee495ef-9b83-4d6f-c50e-351bb31cb295"
      },
      "source": [
        "from keras.layers import Convolution2D, MaxPooling2D\n",
        "from keras.models import Sequential\n",
        "from keras.layers.core import Flatten, Dense\n",
        "\n",
        "model1 = Sequential()\n",
        "model1.add(Convolution2D(16, (3,3), activation='relu', input_shape=(128,128,3)))\n",
        "model1.add(MaxPool2D(2,2))\n",
        "model1.add(Convolution2D(32, (3,3), activation='relu'))\n",
        "model1.add(MaxPool2D(2,2))\n",
        "#fully connected layer\n",
        "model1.add(Flatten())\n",
        "model1.add(Dense(100, activation='relu'))\n",
        "model1.add(Dense(5, activation='softmax'))\n",
        "\n",
        "model1.summary()"
      ],
      "execution_count": 115,
      "outputs": [
        {
          "output_type": "stream",
          "text": [
            "Model: \"sequential_13\"\n",
            "_________________________________________________________________\n",
            "Layer (type)                 Output Shape              Param #   \n",
            "=================================================================\n",
            "conv2d_14 (Conv2D)           (None, 126, 126, 16)      448       \n",
            "_________________________________________________________________\n",
            "max_pooling2d_14 (MaxPooling (None, 63, 63, 16)        0         \n",
            "_________________________________________________________________\n",
            "conv2d_15 (Conv2D)           (None, 61, 61, 32)        4640      \n",
            "_________________________________________________________________\n",
            "max_pooling2d_15 (MaxPooling (None, 30, 30, 32)        0         \n",
            "_________________________________________________________________\n",
            "flatten_13 (Flatten)         (None, 28800)             0         \n",
            "_________________________________________________________________\n",
            "dense_14 (Dense)             (None, 100)               2880100   \n",
            "_________________________________________________________________\n",
            "dense_15 (Dense)             (None, 5)                 505       \n",
            "=================================================================\n",
            "Total params: 2,885,693\n",
            "Trainable params: 2,885,693\n",
            "Non-trainable params: 0\n",
            "_________________________________________________________________\n"
          ],
          "name": "stdout"
        }
      ]
    },
    {
      "cell_type": "code",
      "metadata": {
        "id": "jtiYgkIgyqKq",
        "colab": {
          "base_uri": "https://localhost:8080/"
        },
        "outputId": "0e152012-7d39-4ce7-a0c4-8e08a245efa7"
      },
      "source": [
        "# train the model using the Adam optimizer\n",
        "print(\"[INFO] training network...\")\n",
        "opt = Adam(lr=1e-3, decay=1e-3 / 50)\n",
        "model1.compile(loss=\"categorical_crossentropy\", optimizer=opt, metrics=[\"accuracy\"])\n",
        "H = model1.fit(trainX, trainY, validation_data=(testX, testY), epochs=35, batch_size=32)"
      ],
      "execution_count": 116,
      "outputs": [
        {
          "output_type": "stream",
          "text": [
            "[INFO] training network...\n",
            "Epoch 1/35\n",
            "14/14 [==============================] - 5s 354ms/step - loss: 3.2079 - accuracy: 0.1804 - val_loss: 1.6166 - val_accuracy: 0.1905\n",
            "Epoch 2/35\n",
            "14/14 [==============================] - 5s 346ms/step - loss: 1.5703 - accuracy: 0.2671 - val_loss: 1.5404 - val_accuracy: 0.4354\n",
            "Epoch 3/35\n",
            "14/14 [==============================] - 5s 349ms/step - loss: 1.4514 - accuracy: 0.3219 - val_loss: 1.3693 - val_accuracy: 0.4354\n",
            "Epoch 4/35\n",
            "14/14 [==============================] - 5s 349ms/step - loss: 1.1792 - accuracy: 0.5708 - val_loss: 1.1309 - val_accuracy: 0.5510\n",
            "Epoch 5/35\n",
            "14/14 [==============================] - 5s 351ms/step - loss: 0.8900 - accuracy: 0.6963 - val_loss: 1.0092 - val_accuracy: 0.5850\n",
            "Epoch 6/35\n",
            "14/14 [==============================] - 5s 351ms/step - loss: 0.8186 - accuracy: 0.6895 - val_loss: 0.9555 - val_accuracy: 0.5986\n",
            "Epoch 7/35\n",
            "14/14 [==============================] - 5s 351ms/step - loss: 0.6124 - accuracy: 0.7922 - val_loss: 0.8363 - val_accuracy: 0.6803\n",
            "Epoch 8/35\n",
            "14/14 [==============================] - 5s 351ms/step - loss: 0.5461 - accuracy: 0.8082 - val_loss: 0.7764 - val_accuracy: 0.7075\n",
            "Epoch 9/35\n",
            "14/14 [==============================] - 5s 351ms/step - loss: 0.4431 - accuracy: 0.8493 - val_loss: 0.6623 - val_accuracy: 0.7483\n",
            "Epoch 10/35\n",
            "14/14 [==============================] - 5s 352ms/step - loss: 0.3468 - accuracy: 0.8881 - val_loss: 0.6860 - val_accuracy: 0.7211\n",
            "Epoch 11/35\n",
            "14/14 [==============================] - 5s 350ms/step - loss: 0.2914 - accuracy: 0.9155 - val_loss: 0.6184 - val_accuracy: 0.7755\n",
            "Epoch 12/35\n",
            "14/14 [==============================] - 5s 355ms/step - loss: 0.2609 - accuracy: 0.9178 - val_loss: 0.6164 - val_accuracy: 0.7483\n",
            "Epoch 13/35\n",
            "14/14 [==============================] - 5s 352ms/step - loss: 0.2464 - accuracy: 0.9361 - val_loss: 0.6094 - val_accuracy: 0.7823\n",
            "Epoch 14/35\n",
            "14/14 [==============================] - 5s 358ms/step - loss: 0.1593 - accuracy: 0.9566 - val_loss: 0.6369 - val_accuracy: 0.7279\n",
            "Epoch 15/35\n",
            "14/14 [==============================] - 5s 356ms/step - loss: 0.1356 - accuracy: 0.9658 - val_loss: 0.5311 - val_accuracy: 0.8231\n",
            "Epoch 16/35\n",
            "14/14 [==============================] - 5s 354ms/step - loss: 0.1052 - accuracy: 0.9772 - val_loss: 0.5271 - val_accuracy: 0.8299\n",
            "Epoch 17/35\n",
            "14/14 [==============================] - 5s 356ms/step - loss: 0.0861 - accuracy: 0.9840 - val_loss: 0.4656 - val_accuracy: 0.8571\n",
            "Epoch 18/35\n",
            "14/14 [==============================] - 5s 355ms/step - loss: 0.0824 - accuracy: 0.9795 - val_loss: 0.5372 - val_accuracy: 0.8299\n",
            "Epoch 19/35\n",
            "14/14 [==============================] - 5s 353ms/step - loss: 0.0647 - accuracy: 0.9932 - val_loss: 0.4869 - val_accuracy: 0.8435\n",
            "Epoch 20/35\n",
            "14/14 [==============================] - 5s 356ms/step - loss: 0.0518 - accuracy: 0.9977 - val_loss: 0.5297 - val_accuracy: 0.8299\n",
            "Epoch 21/35\n",
            "14/14 [==============================] - 5s 357ms/step - loss: 0.0604 - accuracy: 0.9817 - val_loss: 0.5631 - val_accuracy: 0.8231\n",
            "Epoch 22/35\n",
            "14/14 [==============================] - 5s 355ms/step - loss: 0.0463 - accuracy: 0.9932 - val_loss: 0.5294 - val_accuracy: 0.8299\n",
            "Epoch 23/35\n",
            "14/14 [==============================] - 5s 358ms/step - loss: 0.0351 - accuracy: 0.9977 - val_loss: 0.5457 - val_accuracy: 0.8231\n",
            "Epoch 24/35\n",
            "14/14 [==============================] - 5s 357ms/step - loss: 0.0310 - accuracy: 1.0000 - val_loss: 0.5239 - val_accuracy: 0.8435\n",
            "Epoch 25/35\n",
            "14/14 [==============================] - 5s 357ms/step - loss: 0.0249 - accuracy: 0.9977 - val_loss: 0.5998 - val_accuracy: 0.8163\n",
            "Epoch 26/35\n",
            "14/14 [==============================] - 5s 358ms/step - loss: 0.0228 - accuracy: 0.9977 - val_loss: 0.5637 - val_accuracy: 0.8163\n",
            "Epoch 27/35\n",
            "14/14 [==============================] - 5s 355ms/step - loss: 0.0287 - accuracy: 0.9954 - val_loss: 0.6030 - val_accuracy: 0.8299\n",
            "Epoch 28/35\n",
            "14/14 [==============================] - 5s 354ms/step - loss: 0.0206 - accuracy: 1.0000 - val_loss: 0.5281 - val_accuracy: 0.8367\n",
            "Epoch 29/35\n",
            "14/14 [==============================] - 5s 356ms/step - loss: 0.0155 - accuracy: 1.0000 - val_loss: 0.5098 - val_accuracy: 0.8435\n",
            "Epoch 30/35\n",
            "14/14 [==============================] - 5s 357ms/step - loss: 0.0150 - accuracy: 1.0000 - val_loss: 0.5101 - val_accuracy: 0.8571\n",
            "Epoch 31/35\n",
            "14/14 [==============================] - 5s 357ms/step - loss: 0.0130 - accuracy: 1.0000 - val_loss: 0.5989 - val_accuracy: 0.8367\n",
            "Epoch 32/35\n",
            "14/14 [==============================] - 5s 357ms/step - loss: 0.0143 - accuracy: 1.0000 - val_loss: 0.5534 - val_accuracy: 0.8367\n",
            "Epoch 33/35\n",
            "14/14 [==============================] - 5s 355ms/step - loss: 0.0118 - accuracy: 1.0000 - val_loss: 0.5599 - val_accuracy: 0.8435\n",
            "Epoch 34/35\n",
            "14/14 [==============================] - 5s 359ms/step - loss: 0.0084 - accuracy: 1.0000 - val_loss: 0.5726 - val_accuracy: 0.8503\n",
            "Epoch 35/35\n",
            "14/14 [==============================] - 5s 357ms/step - loss: 0.0072 - accuracy: 1.0000 - val_loss: 0.5403 - val_accuracy: 0.8571\n"
          ],
          "name": "stdout"
        }
      ]
    },
    {
      "cell_type": "code",
      "metadata": {
        "id": "FST0yyZlyuSV",
        "colab": {
          "base_uri": "https://localhost:8080/",
          "height": 591
        },
        "outputId": "46b44680-cc35-4015-aa44-a7602da20cd4"
      },
      "source": [
        "import matplotlib.pyplot as plt\n",
        "\n",
        "print(H.history.keys())\n",
        "# summarize history for accuracy\n",
        "plt.plot(H.history['accuracy'])\n",
        "plt.plot(H.history['val_accuracy'])\n",
        "plt.title('model accuracy')\n",
        "plt.ylabel('accuracy')\n",
        "plt.xlabel('epoch')\n",
        "plt.legend(['train', 'test'], loc='upper left')\n",
        "plt.show()\n",
        "# summarize history for loss\n",
        "plt.plot(H.history['loss'])\n",
        "plt.plot(H.history['val_loss'])\n",
        "plt.title('model loss')\n",
        "plt.ylabel('loss')\n",
        "plt.xlabel('epoch')\n",
        "plt.legend(['train', 'test'], loc='upper left')\n",
        "plt.show()"
      ],
      "execution_count": 117,
      "outputs": [
        {
          "output_type": "stream",
          "text": [
            "dict_keys(['loss', 'accuracy', 'val_loss', 'val_accuracy'])\n"
          ],
          "name": "stdout"
        },
        {
          "output_type": "display_data",
          "data": {
            "image/png": "[encoded data removed]",
            "text/plain": [
              "<Figure size 432x288 with 1 Axes>"
            ]
          },
          "metadata": {
            "tags": [],
            "needs_background": "light"
          }
        },
        {
          "output_type": "display_data",
          "data": {
            "image/png": "[encoded data removed]",
            "text/plain": [
              "<Figure size 432x288 with 1 Axes>"
            ]
          },
          "metadata": {
            "tags": [],
            "needs_background": "light"
          }
        }
      ]
    },
    {
      "cell_type": "code",
      "metadata": {
        "id": "stJ2OWgZy5Yy",
        "colab": {
          "base_uri": "https://localhost:8080/"
        },
        "outputId": "5e71855d-4083-4293-feb5-bccbe537652a"
      },
      "source": [
        "# evaluate the network\n",
        "print(\"[INFO] evaluating network...\")\n",
        "predictions = model1.predict(testX, batch_size=32)\n",
        "print(classification_report(testY.argmax(axis=1),\n",
        "predictions.argmax(axis=1), target_names=lb.classes_))"
      ],
      "execution_count": 118,
      "outputs": [
        {
          "output_type": "stream",
          "text": [
            "[INFO] evaluating network...\n",
            "              precision    recall  f1-score   support\n",
            "\n",
            "      GMB_01       0.80      0.89      0.84        27\n",
            "      GMB_03       0.87      0.96      0.92        28\n",
            "      GMB_05       0.87      0.84      0.86        32\n",
            "      GMB_07       0.81      0.71      0.76        31\n",
            "      GMB_09       0.93      0.90      0.91        29\n",
            "\n",
            "    accuracy                           0.86       147\n",
            "   macro avg       0.86      0.86      0.86       147\n",
            "weighted avg       0.86      0.86      0.86       147\n",
            "\n"
          ],
          "name": "stdout"
        }
      ]
    },
    {
      "cell_type": "code",
      "metadata": {
        "id": "BPxoVUDNy-1e"
      },
      "source": [
        ""
      ],
      "execution_count": null,
      "outputs": []
    }
  ]
}